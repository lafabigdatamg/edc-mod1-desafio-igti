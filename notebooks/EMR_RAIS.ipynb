{
 "cells": [
  {
   "cell_type": "markdown",
   "id": "ca1fac43",
   "metadata": {},
   "source": [
    "# RAIS 2020 - IGTI - EDC - Desafio Final"
   ]
  },
  {
   "cell_type": "code",
   "execution_count": 1,
   "id": "e7937aa1",
   "metadata": {},
   "outputs": [],
   "source": [
    "from pyspark.sql import functions as f\n",
    "from pyspark.sql import SparkSession"
   ]
  },
  {
   "cell_type": "code",
   "execution_count": 3,
   "id": "d6d2c347",
   "metadata": {},
   "outputs": [],
   "source": [
    "from pyspark.sql import SparkSession\n",
    "\n",
    "spark = (\n",
    "    SparkSession.builder.appName(\"ExerciseSpark\")\n",
    "    .getOrCreate()\n",
    ")"
   ]
  },
  {
   "cell_type": "markdown",
   "id": "8294a716",
   "metadata": {},
   "source": [
    "## Lê os dados e infere o schema"
   ]
  },
  {
   "cell_type": "code",
   "execution_count": 6,
   "id": "5c302d7f",
   "metadata": {},
   "outputs": [
    {
     "name": "stdout",
     "output_type": "stream",
     "text": [
      "root\n",
      " |-- Bairros SP: string (nullable = true)\n",
      " |-- Bairros Fortaleza: string (nullable = true)\n",
      " |-- Bairros RJ: string (nullable = true)\n",
      " |-- Causa Afastamento 1: integer (nullable = true)\n",
      " |-- Causa Afastamento 2: integer (nullable = true)\n",
      " |-- Causa Afastamento 3: integer (nullable = true)\n",
      " |-- Motivo Desligamento: integer (nullable = true)\n",
      " |-- CBO Ocupação 2002: string (nullable = true)\n",
      " |-- CNAE 2.0 Classe: integer (nullable = true)\n",
      " |-- CNAE 95 Classe: integer (nullable = true)\n",
      " |-- Distritos SP: string (nullable = true)\n",
      " |-- Vínculo Ativo 31/12: integer (nullable = true)\n",
      " |-- Faixa Etária: integer (nullable = true)\n",
      " |-- Faixa Hora Contrat: integer (nullable = true)\n",
      " |-- Faixa Remun Dezem (SM): integer (nullable = true)\n",
      " |-- Faixa Remun Média (SM): integer (nullable = true)\n",
      " |-- Faixa Tempo Emprego: integer (nullable = true)\n",
      " |-- Escolaridade após 2005: double (nullable = true)\n",
      " |-- Qtd Hora Contr: double (nullable = true)\n",
      " |-- Idade: double (nullable = true)\n",
      " |-- Ind CEI Vinculado: integer (nullable = true)\n",
      " |-- Ind Simples: integer (nullable = true)\n",
      " |-- Mês Admissão: integer (nullable = true)\n",
      " |-- Mês Desligamento: string (nullable = true)\n",
      " |-- Mun Trab: integer (nullable = true)\n",
      " |-- Município: integer (nullable = true)\n",
      " |-- Nacionalidade: integer (nullable = true)\n",
      " |-- Natureza Jurídica: integer (nullable = true)\n",
      " |-- Ind Portador Defic: integer (nullable = true)\n",
      " |-- Qtd Dias Afastamento: double (nullable = true)\n",
      " |-- Raça Cor: integer (nullable = true)\n",
      " |-- Regiões Adm DF: integer (nullable = true)\n",
      " |-- Vl Remun Dezembro Nom: string (nullable = true)\n",
      " |-- Vl Remun Dezembro (SM): string (nullable = true)\n",
      " |-- Vl Remun Média Nom: string (nullable = true)\n",
      " |-- Vl Remun Média (SM): string (nullable = true)\n",
      " |-- CNAE 2.0 Subclasse: integer (nullable = true)\n",
      " |-- Sexo Trabalhador: double (nullable = true)\n",
      " |-- Tamanho Estabelecimento: integer (nullable = true)\n",
      " |-- Tempo Emprego: string (nullable = true)\n",
      " |-- Tipo Admissão: integer (nullable = true)\n",
      " |-- Tipo Estab41: integer (nullable = true)\n",
      " |-- Tipo Estab42: string (nullable = true)\n",
      " |-- Tipo Defic: integer (nullable = true)\n",
      " |-- Tipo Vínculo: integer (nullable = true)\n",
      " |-- IBGE Subsetor: integer (nullable = true)\n",
      " |-- Vl Rem Janeiro SC: string (nullable = true)\n",
      " |-- Vl Rem Fevereiro SC: string (nullable = true)\n",
      " |-- Vl Rem Março SC: string (nullable = true)\n",
      " |-- Vl Rem Abril SC: string (nullable = true)\n",
      " |-- Vl Rem Maio SC: string (nullable = true)\n",
      " |-- Vl Rem Junho SC: string (nullable = true)\n",
      " |-- Vl Rem Julho SC: string (nullable = true)\n",
      " |-- Vl Rem Agosto SC: string (nullable = true)\n",
      " |-- Vl Rem Setembro SC: string (nullable = true)\n",
      " |-- Vl Rem Outubro SC: string (nullable = true)\n",
      " |-- Vl Rem Novembro SC: string (nullable = true)\n",
      " |-- Ano Chegada Brasil: integer (nullable = true)\n",
      " |-- Ind Trab Intermitente: integer (nullable = true)\n",
      " |-- Ind Trab Parcial: integer (nullable = true)\n",
      "\n"
     ]
    }
   ],
   "source": [
    "rais = (\n",
    "    spark.read\n",
    "    .csv(\".\", inferSchema=True, header=True, sep=';', encoding=\"latin1\")\n",
    ")\n",
    "\n",
    "rais.printSchema()"
   ]
  },
  {
   "cell_type": "markdown",
   "id": "535c8ba6",
   "metadata": {},
   "source": [
    "## Primeira coisa importante: corrigir os nomes das colunas"
   ]
  },
  {
   "cell_type": "code",
   "execution_count": 8,
   "id": "19492d4d",
   "metadata": {},
   "outputs": [],
   "source": [
    "rais = (\n",
    "    rais\n",
    "    .withColumnRenamed('Bairros SP', 'bairros_sp')\n",
    "    .withColumnRenamed('Bairros Fortaleza', 'bairros_fortaleza')\n",
    "    .withColumnRenamed('Bairros RJ', 'bairros_rj')\n",
    "    .withColumnRenamed('Causa Afastamento 1', 'causa_afastamento_1')\n",
    "    .withColumnRenamed('Causa Afastamento 2', 'causa_afastamento_2')\n",
    "    .withColumnRenamed('Causa Afastamento 3', 'causa_afastamento_3')\n",
    "    .withColumnRenamed('Motivo Desligamento', 'motivo_desligamento')\n",
    "    .withColumnRenamed(rais.columns[7], 'cbo_ocupacao_2002')\n",
    "    .withColumnRenamed('CNAE 2.0 Classe', 'cnae_2_0_classe')\n",
    "    .withColumnRenamed('CNAE 95 Classe', 'cnae_95_classe')\n",
    "    .withColumnRenamed('Distritos SP', 'distritos_sp')\n",
    "    .withColumnRenamed(rais.columns[11], 'vinculo_ativo_31_12')\n",
    "    .withColumnRenamed(rais.columns[12], 'faixa_etaria')\n",
    "    .withColumnRenamed('Faixa Hora Contrat', 'faixa_hora_contrat')\n",
    "    .withColumnRenamed('Faixa Remun Dezem (SM)', 'faixa_remun_dezem_sm')\n",
    "    .withColumnRenamed(rais.columns[15], 'faixa_remun_media_sm')\n",
    "    .withColumnRenamed('Faixa Tempo Emprego', 'faixa_tempo_emprego')\n",
    "    .withColumnRenamed(rais.columns[17], 'escolaridade_apos_2005')\n",
    "    .withColumnRenamed('Qtd Hora Contr', 'qtd_hora_contr')\n",
    "    .withColumnRenamed('Idade', 'idade')\n",
    "    .withColumnRenamed('Ind CEI Vinculado', 'ind_cei_vinculado')\n",
    "    .withColumnRenamed('Ind Simples', 'ind_simples')\n",
    "    .withColumnRenamed(rais.columns[22], 'mes_admissao')\n",
    "    .withColumnRenamed(rais.columns[23], 'mes_desligamento')\n",
    "    .withColumnRenamed('Mun Trab', 'mun_trab')\n",
    "    .withColumnRenamed(rais.columns[25], 'municipio')\n",
    "    .withColumnRenamed('Nacionalidade', 'nacionalidade')\n",
    "    .withColumnRenamed(rais.columns[27], 'natureza_juridica')\n",
    "    .withColumnRenamed('Ind Portador Defic', 'ind_portador_defic')\n",
    "    .withColumnRenamed('Qtd Dias Afastamento', 'qtd_dias_afastamento')\n",
    "    .withColumnRenamed(rais.columns[30], 'raca_cor')\n",
    "    .withColumnRenamed(rais.columns[31], 'regioes_adm_df')\n",
    "    .withColumnRenamed('Vl Remun Dezembro Nom', 'vl_remun_dezembro_nom')\n",
    "    .withColumnRenamed('Vl Remun Dezembro (SM)', 'vl_remun_dezembro_sm')\n",
    "    .withColumnRenamed(rais.columns[34], 'vl_remun_media_nom')\n",
    "    .withColumnRenamed(rais.columns[35], 'vl_remun_media_sm')\n",
    "    .withColumnRenamed('CNAE 2.0 Subclasse', 'cnae_2_0_subclasse')\n",
    "    .withColumnRenamed('Sexo Trabalhador', 'sexo_trabalhador')\n",
    "    .withColumnRenamed('Tamanho Estabelecimento', 'tamanho_estabelecimento')\n",
    "    .withColumnRenamed('Tempo Emprego', 'tempo_emprego')\n",
    "    .withColumnRenamed(rais.columns[40], 'tipo_admissao')\n",
    "    .withColumnRenamed('Tipo Estab41', 'tipo_estab41')\n",
    "    .withColumnRenamed('Tipo Estab42', 'tipo_estab42')\n",
    "    .withColumnRenamed('Tipo Defic', 'tipo_defic')\n",
    "    .withColumnRenamed(rais.columns[44], 'tipo_vinculo')\n",
    "    .withColumnRenamed('IBGE Subsetor', 'ibge_subsetor')\n",
    "    .withColumnRenamed('Vl Rem Janeiro SC', 'vl_rem_janeiro_sc')\n",
    "    .withColumnRenamed('Vl Rem Fevereiro SC', 'vl_rem_fevereiro_sc')\n",
    "    .withColumnRenamed(rais.columns[48], 'vl_rem_marco_sc')\n",
    "    .withColumnRenamed('Vl Rem Abril SC', 'vl_rem_abril_sc')\n",
    "    .withColumnRenamed('Vl Rem Maio SC', 'vl_rem_maio_sc')\n",
    "    .withColumnRenamed('Vl Rem Junho SC', 'vl_rem_junho_sc')\n",
    "    .withColumnRenamed('Vl Rem Julho SC', 'vl_rem_julho_sc')\n",
    "    .withColumnRenamed('Vl Rem Agosto SC', 'vl_rem_agosto_sc')\n",
    "    .withColumnRenamed('Vl Rem Setembro SC', 'vl_rem_setembro_sc')\n",
    "    .withColumnRenamed('Vl Rem Outubro SC', 'vl_rem_outubro_sc')\n",
    "    .withColumnRenamed('Vl Rem Novembro SC', 'vl_rem_novembro_sc')\n",
    "    .withColumnRenamed('Ano Chegada Brasil', 'ano_chegada_brasil')\n",
    "    .withColumnRenamed('Ind Trab Intermitente', 'ind_trab_intermitente')\n",
    "    .withColumnRenamed('Ind Trab Parcial', 'ind_trab_parcial')\n",
    ")"
   ]
  },
  {
   "cell_type": "markdown",
   "id": "f1509e84",
   "metadata": {},
   "source": [
    "## Construindo a variável de uf"
   ]
  },
  {
   "cell_type": "code",
   "execution_count": 12,
   "id": "88f3757c",
   "metadata": {},
   "outputs": [],
   "source": [
    "# Para que o comando explain() funcione\n",
    "from py4j.java_gateway import java_import\n",
    "java_import(spark._sc._jvm, \"org.apache.spark.sql.api.python.*\")"
   ]
  },
  {
   "cell_type": "code",
   "execution_count": 13,
   "id": "dbf6976f",
   "metadata": {},
   "outputs": [],
   "source": [
    "rais = rais.withColumn(\"uf\", f.col(\"municipio\").cast('string').substr(1,2).cast('int'))"
   ]
  },
  {
   "cell_type": "markdown",
   "id": "529807ab",
   "metadata": {},
   "source": [
    "## Corrigindo tipos das variáveis de renda e mês de desligamento"
   ]
  },
  {
   "cell_type": "code",
   "execution_count": 15,
   "id": "5aa288e4",
   "metadata": {},
   "outputs": [],
   "source": [
    "rais = (\n",
    "    rais\n",
    "    .withColumn(\"mes_desligamento\", f.col('mes_desligamento').cast('int'))\n",
    "    .withColumn(\"vl_remun_dezembro_nom\", f.regexp_replace(\"vl_remun_dezembro_nom\", ',', '.').cast('double'))\n",
    "    .withColumn(\"vl_remun_dezembro_sm\", f.regexp_replace(\"vl_remun_dezembro_sm\", ',', '.').cast('double'))\n",
    "    .withColumn(\"vl_remun_media_nom\", f.regexp_replace(\"vl_remun_media_nom\", ',', '.').cast('double'))\n",
    "    .withColumn(\"vl_remun_media_sm\", f.regexp_replace(\"vl_remun_media_sm\", ',', '.').cast('double'))\n",
    "    .withColumn(\"vl_rem_janeiro_sc\", f.regexp_replace(\"vl_rem_janeiro_sc\", ',', '.').cast('double'))\n",
    "    .withColumn(\"vl_rem_fevereiro_sc\", f.regexp_replace(\"vl_rem_fevereiro_sc\", ',', '.').cast('double'))\n",
    "    .withColumn(\"vl_rem_marco_sc\", f.regexp_replace(\"vl_rem_marco_sc\", ',', '.').cast('double'))\n",
    "    .withColumn(\"vl_rem_abril_sc\", f.regexp_replace(\"vl_rem_abril_sc\", ',', '.').cast('double'))\n",
    "    .withColumn(\"vl_rem_maio_sc\", f.regexp_replace(\"vl_rem_maio_sc\", ',', '.').cast('double'))\n",
    "    .withColumn(\"vl_rem_junho_sc\", f.regexp_replace(\"vl_rem_junho_sc\", ',', '.').cast('double'))\n",
    "    .withColumn(\"vl_rem_julho_sc\", f.regexp_replace(\"vl_rem_julho_sc\", ',', '.').cast('double'))\n",
    "    .withColumn(\"vl_rem_agosto_sc\", f.regexp_replace(\"vl_rem_agosto_sc\", ',', '.').cast('double'))\n",
    "    .withColumn(\"vl_rem_setembro_sc\", f.regexp_replace(\"vl_rem_setembro_sc\", ',', '.').cast('double'))\n",
    "    .withColumn(\"vl_rem_outubro_sc\", f.regexp_replace(\"vl_rem_outubro_sc\", ',', '.').cast('double'))\n",
    "    .withColumn(\"vl_rem_novembro_sc\", f.regexp_replace(\"vl_rem_novembro_sc\", ',', '.').cast('double'))\n",
    ")"
   ]
  },
  {
   "cell_type": "markdown",
   "id": "a6323b3c",
   "metadata": {},
   "source": [
    "## Converte para parquet"
   ]
  },
  {
   "cell_type": "code",
   "execution_count": null,
   "id": "88ffd59f",
   "metadata": {},
   "outputs": [],
   "source": [
    " (\n",
    "     rais\n",
    "    .write\n",
    "    .mode(\"overwrite\")\n",
    "    .format(\"parquet\")\n",
    "    .save(\"s3://igti-eric-rais2020-mod1/staging-zone/\")\n",
    " )"
   ]
  },
  {
   "cell_type": "code",
   "execution_count": null,
   "id": "9c8d5c61",
   "metadata": {},
   "outputs": [],
   "source": [
    "spark.stop()"
   ]
  }
 ],
 "metadata": {
  "kernelspec": {
   "display_name": "Python 3 (ipykernel)",
   "language": "python",
   "name": "python3"
  },
  "language_info": {
   "codemirror_mode": {
    "name": "ipython",
    "version": 3
   },
   "file_extension": ".py",
   "mimetype": "text/x-python",
   "name": "python",
   "nbconvert_exporter": "python",
   "pygments_lexer": "ipython3",
   "version": "3.10.2"
  }
 },
 "nbformat": 4,
 "nbformat_minor": 5
}
